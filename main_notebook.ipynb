{
  "cells": [
    {
      "cell_type": "code",
      "execution_count": null,
      "metadata": {
        "colab": {
          "base_uri": "https://localhost:8080/"
        },
        "id": "1VQMOv428DfA",
        "outputId": "1f8e5bf3-acbe-4fc0-dc66-30abd32b9a41"
      },
      "outputs": [],
      "source": [
        "from google.colab import drive\n",
        "drive.mount('/content/drive')"
      ]
    },
    {
      "cell_type": "code",
      "execution_count": 2,
      "metadata": {
        "id": "5bXIvsnVQm0v"
      },
      "outputs": [],
      "source": [
        "import sys\n",
        "sys.path.append('/content/drive/MyDrive/deep_learning_ppg')\n",
        "\n",
        "import pandas as pd\n",
        "import numpy as np\n",
        "import torch\n",
        "import torch.nn as nn\n",
        "import architectures\n",
        "import network_training\n",
        "import plotting\n",
        "import preprocessing"
      ]
    },
    {
      "cell_type": "code",
      "execution_count": 3,
      "metadata": {
        "id": "F0GDzAhFrvHV"
      },
      "outputs": [],
      "source": [
        "def read_data_from_csv(csv_file_name):\n",
        "      data = pd.read_csv(csv_file_name)\n",
        "      x_data = data.iloc[:, :-2].values\n",
        "      y_data = data.iloc[:, -2].values\n",
        "      subj = data.iloc[:, -1].values\n",
        "\n",
        "      return x_data, y_data, subj"
      ]
    },
    {
      "cell_type": "code",
      "execution_count": 4,
      "metadata": {
        "id": "eCyTR0urJoJw"
      },
      "outputs": [],
      "source": [
        "dataset_id = 2\n",
        "\n",
        "if dataset_id == 1:\n",
        "  csv_file_name = '/content/drive/MyDrive/deep_learning_ppg/data_wesad.csv'\n",
        "  labels = ('baseline', 'stress', 'amusement', 'meditation')\n",
        "  avg = False\n",
        "elif dataset_id == 2:\n",
        "  csv_file_name = '/content/drive/MyDrive/deep_learning_ppg/data_affectiveroad.csv'\n",
        "  labels = ('low', 'medium', 'high')\n",
        "  avg = True\n",
        "\n",
        "features, targets, subj_data = read_data_from_csv(csv_file_name)\n",
        "fs = 64"
      ]
    },
    {
      "cell_type": "code",
      "execution_count": null,
      "metadata": {
        "id": "wCJzfAjJ7V2t"
      },
      "outputs": [],
      "source": [
        "# Optional downsampling\n",
        "\n",
        "fs_new = 8\n",
        "\n",
        "features = preprocessing.resample_signal(features, fs, fs_new)\n",
        "targets = preprocessing.resample_signal(targets, fs, fs_new)\n",
        "\n",
        "fs = fs_new"
      ]
    },
    {
      "cell_type": "code",
      "execution_count": 5,
      "metadata": {
        "id": "W0delxoDwp0D"
      },
      "outputs": [],
      "source": [
        "# Use data from one wrist only: 0 - left, 1 - right\n",
        "wrist_id = 0\n",
        "\n",
        "features = features[:, wrist_id].reshape(-1, 1)"
      ]
    },
    {
      "cell_type": "code",
      "execution_count": 6,
      "metadata": {
        "id": "wTv6Q3Ubawlw"
      },
      "outputs": [],
      "source": [
        "params = {\n",
        "    \"seed\" : 256,\n",
        "    \"learning_rate\" : 0.001,\n",
        "    \"weight_decay\" : 1e-6,\n",
        "    \"step_size\" : 3,\n",
        "    \"gamma\" : 0.85,\n",
        "    \"batch_size\" : 128,\n",
        "    \"epochs\" : 30,\n",
        "    \"num_resblocks\" : 3,\n",
        "    \"num_lstm_layers\" : 2,\n",
        "    \"num_lstm_units\" : 256\n",
        "}\n",
        "\n",
        "params[\"window_size\"] = fs * 8\n",
        "params[\"overlap\"] = params[\"window_size\"] * 3//4"
      ]
    },
    {
      "cell_type": "code",
      "execution_count": null,
      "metadata": {
        "colab": {
          "base_uri": "https://localhost:8080/"
        },
        "id": "zzwYFHnv_J4I",
        "outputId": "bd9daaf5-087c-4d30-b5b1-bdd1c2464c3f"
      },
      "outputs": [],
      "source": [
        "scaled_data = preprocessing.scale_data(features, targets)\n",
        "\n",
        "# import sklearn\n",
        "# scaled_data = sklearn.preprocessing.normalize(features)\n",
        "\n",
        "sliding_X_data, sliding_y_data = preprocessing.apply_sliding_window(scaled_data, targets, subj_data, params[\"window_size\"], params[\"overlap\"], avg)\n",
        "\n",
        "X_data = sliding_X_data.astype(np.float32)\n",
        "y_data = sliding_y_data.astype(np.uint8)\n",
        "\n",
        "print(X_data.shape, y_data.shape)"
      ]
    },
    {
      "cell_type": "code",
      "execution_count": 8,
      "metadata": {
        "id": "ItuhNLcn_3VR"
      },
      "outputs": [],
      "source": [
        "params[\"num_channels\"] = X_data.shape[2]\n",
        "params[\"num_classes\"] = len(labels)"
      ]
    },
    {
      "cell_type": "code",
      "execution_count": 9,
      "metadata": {
        "id": "ovyf40HS__og"
      },
      "outputs": [],
      "source": [
        "import torch.optim.lr_scheduler as lr_scheduler\n",
        "from sklearn.model_selection import KFold\n",
        "\n",
        "def training_loop(X_data, y_data, params, architecture_id, crossvalid = False):\n",
        "  if crossvalid:\n",
        "    num_folds = 5\n",
        "    kf = KFold(n_splits=num_folds, shuffle=True, random_state = params[\"seed\"])\n",
        "    data_splits = [(X_data[train_ind], X_data[val_ind], y_data[train_ind], y_data[val_ind]) for train_ind, val_ind in kf.split(X_data)]\n",
        "  else:\n",
        "    num_folds = 1\n",
        "    X_train, X_val, y_train, y_val = network_training.split_data(X_data, y_data, train_size=0.8)\n",
        "    data_splits = [(X_train, X_val, y_train, y_val)]\n",
        "\n",
        "  avg_losses_train = []\n",
        "  f1_scores_train = []\n",
        "  accuracies_train = []\n",
        "  recalls_train = []\n",
        "  precisions_train = []\n",
        "\n",
        "  avg_losses_val = []\n",
        "  f1_scores_val = []\n",
        "  accuracies_val = []\n",
        "  recalls_val = []\n",
        "  precisions_val = []\n",
        "\n",
        "  for fold, (X_train_fold, X_val_fold, y_train_fold, y_val_fold) in enumerate(data_splits):\n",
        "    print(f\"Fold {fold+1}/{num_folds}\")\n",
        "\n",
        "    if architecture_id == 1:\n",
        "                network = architectures.DeepConvLSTM(params[\"num_channels\"], params[\"num_classes\"], num_layers=params[\"num_lstm_layers\"], hidden_size=params[\"num_lstm_units\"])\n",
        "    else:\n",
        "                network = architectures.ResNet(params[\"num_channels\"], params[\"num_classes\"], num_resblocks=params[\"num_resblocks\"])\n",
        "\n",
        "\n",
        "    if fold == 0: print(network)\n",
        "\n",
        "    optimizer = torch.optim.Adam(network.parameters(), lr=params[\"learning_rate\"], weight_decay=params[\"weight_decay\"])\n",
        "    class_weights = preprocessing.get_class_weights(y_data)\n",
        "    criterion = nn.CrossEntropyLoss(weight=class_weights)\n",
        "    scheduler = lr_scheduler.StepLR(optimizer, step_size=params[\"step_size\"], gamma=params[\"gamma\"])\n",
        "\n",
        "    trainloader, valloader = network_training.data_loader(X_train_fold, y_train_fold,\n",
        "                                                                  X_val_fold, y_val_fold, params[\"batch_size\"])\n",
        "\n",
        "    for epoch in range(params[\"epochs\"]):\n",
        "      print(f\"Epoch {epoch + 1}:\")\n",
        "      avg_loss_train, f1_train, accuracy_train, precision_train, recall_train = \\\n",
        "           network_training.train(trainloader, network, optimizer, criterion, scheduler)\n",
        "      avg_loss_val, f1_val, accuracy_val, precision_val, recall_val = \\\n",
        "           network_training.valid(valloader, network, criterion)\n",
        "\n",
        "    avg_losses_train.append(avg_loss_train)\n",
        "    f1_scores_train.append(f1_train)\n",
        "    accuracies_train.append(accuracy_train)\n",
        "    recalls_train.append(recall_train)\n",
        "    precisions_train.append(precision_train)\n",
        "\n",
        "    avg_losses_val.append(avg_loss_val)\n",
        "    f1_scores_val.append(f1_val)\n",
        "    accuracies_val.append(accuracy_val)\n",
        "    recalls_val.append(recall_val)\n",
        "    precisions_val.append(precision_val)\n",
        "\n",
        "  mean_avg_losses_train = np.mean(avg_losses_train)\n",
        "  mean_f1_scores_train = np.mean(f1_scores_train)\n",
        "  mean_accuracies_train = np.mean(accuracies_train)\n",
        "  mean_recalls_train = np.mean(recalls_train)\n",
        "  mean_precisions_train = np.mean(precisions_train)\n",
        "\n",
        "  mean_avg_losses_val = np.mean(avg_losses_val)\n",
        "  mean_f1_scores_val = np.mean(f1_scores_val)\n",
        "  mean_accuracies_val = np.mean(accuracies_val)\n",
        "  mean_recalls_val = np.mean(recalls_val)\n",
        "  mean_precisions_val = np.mean(precisions_val)\n",
        "\n",
        "  print(f\"\"\"Train: F1 - {mean_f1_scores_train*100:.2f} acc - {mean_accuracies_train*100:.2f}\n",
        "        prec - {mean_precisions_train*100:.2f} rec - {mean_recalls_train*100:.2f}\n",
        "        loss - {mean_avg_losses_train:.2f}\"\"\")\n",
        "  print(f\"\"\"Valid: F1 - {mean_f1_scores_val*100:.2f} acc -  {mean_accuracies_val*100:.2f}\n",
        "        prec - {mean_precisions_val*100:.2f}  rec - {mean_recalls_val*100:.2f}\n",
        "        loss - {mean_avg_losses_val:.2f}\"\"\")\n",
        "  return network"
      ]
    },
    {
      "cell_type": "code",
      "execution_count": null,
      "metadata": {
        "colab": {
          "base_uri": "https://localhost:8080/"
        },
        "id": "7qPPibFaEnDb",
        "outputId": "51dbe91d-7a62-4ad2-8a7f-b743ae992bef"
      },
      "outputs": [],
      "source": [
        "np.random.seed(params[\"seed\"])\n",
        "torch.manual_seed(params[\"seed\"])\n",
        "\n",
        "# LSTM - 1, ResNet - 2\n",
        "architecture_id = 2\n",
        "model = training_loop(X_data, y_data, params, architecture_id, crossvalid=False)"
      ]
    }
  ],
  "metadata": {
    "colab": {
      "provenance": []
    },
    "kernelspec": {
      "display_name": "Python 3",
      "name": "python3"
    },
    "language_info": {
      "name": "python"
    },
    "widgets": {
      "application/vnd.jupyter.widget-state+json": {
        "01273366a49a48ea8ed95f36e0786fd1": {
          "model_module": "@jupyter-widgets/base",
          "model_module_version": "1.2.0",
          "model_name": "LayoutModel",
          "state": {
            "_model_module": "@jupyter-widgets/base",
            "_model_module_version": "1.2.0",
            "_model_name": "LayoutModel",
            "_view_count": null,
            "_view_module": "@jupyter-widgets/base",
            "_view_module_version": "1.2.0",
            "_view_name": "LayoutView",
            "align_content": null,
            "align_items": null,
            "align_self": null,
            "border": null,
            "bottom": null,
            "display": null,
            "flex": null,
            "flex_flow": null,
            "grid_area": null,
            "grid_auto_columns": null,
            "grid_auto_flow": null,
            "grid_auto_rows": null,
            "grid_column": null,
            "grid_gap": null,
            "grid_row": null,
            "grid_template_areas": null,
            "grid_template_columns": null,
            "grid_template_rows": null,
            "height": null,
            "justify_content": null,
            "justify_items": null,
            "left": null,
            "margin": null,
            "max_height": null,
            "max_width": null,
            "min_height": null,
            "min_width": null,
            "object_fit": null,
            "object_position": null,
            "order": null,
            "overflow": null,
            "overflow_x": null,
            "overflow_y": null,
            "padding": null,
            "right": null,
            "top": null,
            "visibility": null,
            "width": null
          }
        },
        "36421a975c834568b6b247c935cd9aa6": {
          "model_module": "@jupyter-widgets/controls",
          "model_module_version": "1.5.0",
          "model_name": "HBoxModel",
          "state": {
            "_dom_classes": [],
            "_model_module": "@jupyter-widgets/controls",
            "_model_module_version": "1.5.0",
            "_model_name": "HBoxModel",
            "_view_count": null,
            "_view_module": "@jupyter-widgets/controls",
            "_view_module_version": "1.5.0",
            "_view_name": "HBoxView",
            "box_style": "",
            "children": [
              "IPY_MODEL_c81ae3e70a774e31833a2c7870dddd2b",
              "IPY_MODEL_d4182c8eb71c4f6ea16755f2c011fdd6",
              "IPY_MODEL_4b405058110f4c5284448afdcabf2947"
            ],
            "layout": "IPY_MODEL_f4c09b6cc9af4dfa829ec818e0399a9d"
          }
        },
        "4b405058110f4c5284448afdcabf2947": {
          "model_module": "@jupyter-widgets/controls",
          "model_module_version": "1.5.0",
          "model_name": "HTMLModel",
          "state": {
            "_dom_classes": [],
            "_model_module": "@jupyter-widgets/controls",
            "_model_module_version": "1.5.0",
            "_model_name": "HTMLModel",
            "_view_count": null,
            "_view_module": "@jupyter-widgets/controls",
            "_view_module_version": "1.5.0",
            "_view_name": "HTMLView",
            "description": "",
            "description_tooltip": null,
            "layout": "IPY_MODEL_d218f3b2bdf44631b79daca528633dea",
            "placeholder": "​",
            "style": "IPY_MODEL_64ed78094ac846c6988250868ad9fe4a",
            "value": " 1000/1000 [00:00&lt;00:00, 1184.80it/s]"
          }
        },
        "64ed78094ac846c6988250868ad9fe4a": {
          "model_module": "@jupyter-widgets/controls",
          "model_module_version": "1.5.0",
          "model_name": "DescriptionStyleModel",
          "state": {
            "_model_module": "@jupyter-widgets/controls",
            "_model_module_version": "1.5.0",
            "_model_name": "DescriptionStyleModel",
            "_view_count": null,
            "_view_module": "@jupyter-widgets/base",
            "_view_module_version": "1.2.0",
            "_view_name": "StyleView",
            "description_width": ""
          }
        },
        "7b6282715c444278afe11ec005b99bdf": {
          "model_module": "@jupyter-widgets/base",
          "model_module_version": "1.2.0",
          "model_name": "LayoutModel",
          "state": {
            "_model_module": "@jupyter-widgets/base",
            "_model_module_version": "1.2.0",
            "_model_name": "LayoutModel",
            "_view_count": null,
            "_view_module": "@jupyter-widgets/base",
            "_view_module_version": "1.2.0",
            "_view_name": "LayoutView",
            "align_content": null,
            "align_items": null,
            "align_self": null,
            "border": null,
            "bottom": null,
            "display": null,
            "flex": null,
            "flex_flow": null,
            "grid_area": null,
            "grid_auto_columns": null,
            "grid_auto_flow": null,
            "grid_auto_rows": null,
            "grid_column": null,
            "grid_gap": null,
            "grid_row": null,
            "grid_template_areas": null,
            "grid_template_columns": null,
            "grid_template_rows": null,
            "height": null,
            "justify_content": null,
            "justify_items": null,
            "left": null,
            "margin": null,
            "max_height": null,
            "max_width": null,
            "min_height": null,
            "min_width": null,
            "object_fit": null,
            "object_position": null,
            "order": null,
            "overflow": null,
            "overflow_x": null,
            "overflow_y": null,
            "padding": null,
            "right": null,
            "top": null,
            "visibility": null,
            "width": null
          }
        },
        "97c93f3dc4a84a62982483247b7c3812": {
          "model_module": "@jupyter-widgets/controls",
          "model_module_version": "1.5.0",
          "model_name": "ProgressStyleModel",
          "state": {
            "_model_module": "@jupyter-widgets/controls",
            "_model_module_version": "1.5.0",
            "_model_name": "ProgressStyleModel",
            "_view_count": null,
            "_view_module": "@jupyter-widgets/base",
            "_view_module_version": "1.2.0",
            "_view_name": "StyleView",
            "bar_color": null,
            "description_width": ""
          }
        },
        "9d3de6de9a14415aaafe9d4d569263ed": {
          "model_module": "@jupyter-widgets/controls",
          "model_module_version": "1.5.0",
          "model_name": "DescriptionStyleModel",
          "state": {
            "_model_module": "@jupyter-widgets/controls",
            "_model_module_version": "1.5.0",
            "_model_name": "DescriptionStyleModel",
            "_view_count": null,
            "_view_module": "@jupyter-widgets/base",
            "_view_module_version": "1.2.0",
            "_view_name": "StyleView",
            "description_width": ""
          }
        },
        "c81ae3e70a774e31833a2c7870dddd2b": {
          "model_module": "@jupyter-widgets/controls",
          "model_module_version": "1.5.0",
          "model_name": "HTMLModel",
          "state": {
            "_dom_classes": [],
            "_model_module": "@jupyter-widgets/controls",
            "_model_module_version": "1.5.0",
            "_model_name": "HTMLModel",
            "_view_count": null,
            "_view_module": "@jupyter-widgets/controls",
            "_view_module_version": "1.5.0",
            "_view_name": "HTMLView",
            "description": "",
            "description_tooltip": null,
            "layout": "IPY_MODEL_7b6282715c444278afe11ec005b99bdf",
            "placeholder": "​",
            "style": "IPY_MODEL_9d3de6de9a14415aaafe9d4d569263ed",
            "value": "100%"
          }
        },
        "d218f3b2bdf44631b79daca528633dea": {
          "model_module": "@jupyter-widgets/base",
          "model_module_version": "1.2.0",
          "model_name": "LayoutModel",
          "state": {
            "_model_module": "@jupyter-widgets/base",
            "_model_module_version": "1.2.0",
            "_model_name": "LayoutModel",
            "_view_count": null,
            "_view_module": "@jupyter-widgets/base",
            "_view_module_version": "1.2.0",
            "_view_name": "LayoutView",
            "align_content": null,
            "align_items": null,
            "align_self": null,
            "border": null,
            "bottom": null,
            "display": null,
            "flex": null,
            "flex_flow": null,
            "grid_area": null,
            "grid_auto_columns": null,
            "grid_auto_flow": null,
            "grid_auto_rows": null,
            "grid_column": null,
            "grid_gap": null,
            "grid_row": null,
            "grid_template_areas": null,
            "grid_template_columns": null,
            "grid_template_rows": null,
            "height": null,
            "justify_content": null,
            "justify_items": null,
            "left": null,
            "margin": null,
            "max_height": null,
            "max_width": null,
            "min_height": null,
            "min_width": null,
            "object_fit": null,
            "object_position": null,
            "order": null,
            "overflow": null,
            "overflow_x": null,
            "overflow_y": null,
            "padding": null,
            "right": null,
            "top": null,
            "visibility": null,
            "width": null
          }
        },
        "d4182c8eb71c4f6ea16755f2c011fdd6": {
          "model_module": "@jupyter-widgets/controls",
          "model_module_version": "1.5.0",
          "model_name": "FloatProgressModel",
          "state": {
            "_dom_classes": [],
            "_model_module": "@jupyter-widgets/controls",
            "_model_module_version": "1.5.0",
            "_model_name": "FloatProgressModel",
            "_view_count": null,
            "_view_module": "@jupyter-widgets/controls",
            "_view_module_version": "1.5.0",
            "_view_name": "ProgressView",
            "bar_style": "success",
            "description": "",
            "description_tooltip": null,
            "layout": "IPY_MODEL_01273366a49a48ea8ed95f36e0786fd1",
            "max": 1000,
            "min": 0,
            "orientation": "horizontal",
            "style": "IPY_MODEL_97c93f3dc4a84a62982483247b7c3812",
            "value": 1000
          }
        },
        "f4c09b6cc9af4dfa829ec818e0399a9d": {
          "model_module": "@jupyter-widgets/base",
          "model_module_version": "1.2.0",
          "model_name": "LayoutModel",
          "state": {
            "_model_module": "@jupyter-widgets/base",
            "_model_module_version": "1.2.0",
            "_model_name": "LayoutModel",
            "_view_count": null,
            "_view_module": "@jupyter-widgets/base",
            "_view_module_version": "1.2.0",
            "_view_name": "LayoutView",
            "align_content": null,
            "align_items": null,
            "align_self": null,
            "border": null,
            "bottom": null,
            "display": null,
            "flex": null,
            "flex_flow": null,
            "grid_area": null,
            "grid_auto_columns": null,
            "grid_auto_flow": null,
            "grid_auto_rows": null,
            "grid_column": null,
            "grid_gap": null,
            "grid_row": null,
            "grid_template_areas": null,
            "grid_template_columns": null,
            "grid_template_rows": null,
            "height": null,
            "justify_content": null,
            "justify_items": null,
            "left": null,
            "margin": null,
            "max_height": null,
            "max_width": null,
            "min_height": null,
            "min_width": null,
            "object_fit": null,
            "object_position": null,
            "order": null,
            "overflow": null,
            "overflow_x": null,
            "overflow_y": null,
            "padding": null,
            "right": null,
            "top": null,
            "visibility": null,
            "width": null
          }
        }
      }
    }
  },
  "nbformat": 4,
  "nbformat_minor": 0
}
